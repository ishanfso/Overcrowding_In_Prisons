{
 "cells": [
  {
   "cell_type": "markdown",
   "metadata": {},
   "source": [
    "## State of Indian Prisons"
   ]
  },
  {
   "cell_type": "markdown",
   "metadata": {},
   "source": [
    "### Data\n"
   ]
  },
  {
   "cell_type": "markdown",
   "metadata": {},
   "source": [
    "National Human Rights council, the apex body in Indian Union which is responsible for inspection and vigilance over Prisons, is often clogged with complains related to poor state of Indian Prisons. \n",
    "\n",
    "National Crime Records Bureau under Minister of Home Affairs regularly releases prison data. For this exploratory analysis, we are using the latest (2018) data-set available on Open Government Data (OGD) platform (https://data.gov.in/ministrydepartment/national-crime-records-bureau-ncrb). It is a statewise data spread over mutiple tables.\n"
   ]
  },
  {
   "cell_type": "markdown",
   "metadata": {},
   "source": [
    "### Research Question"
   ]
  },
  {
   "cell_type": "markdown",
   "metadata": {},
   "source": [
    "Overcrowding is one of the biggest complaint against Indian Prisons. We want to figure out the states running on over-capacity and likely factors behind it.  \n"
   ]
  },
  {
   "cell_type": "markdown",
   "metadata": {},
   "source": [
    "### Exploratory Data Analysis\n"
   ]
  },
  {
   "cell_type": "code",
   "execution_count": 2,
   "metadata": {},
   "outputs": [],
   "source": [
    "# Importing the Libraries.\n",
    "\n",
    "import pandas as pd\n",
    "import numpy as np\n",
    "import matplotlib.pyplot as plt\n"
   ]
  },
  {
   "cell_type": "code",
   "execution_count": 48,
   "metadata": {},
   "outputs": [],
   "source": [
    "#Importing the .csv file as pandas dataframe. \n",
    "\n",
    "\n",
    "jail_occup = pd.read_csv('Jail_Occupancy.csv', index_col = 1)\n",
    "\n"
   ]
  },
  {
   "cell_type": "code",
   "execution_count": 47,
   "metadata": {},
   "outputs": [
    {
     "name": "stdout",
     "output_type": "stream",
     "text": [
      "(36, 7)\n"
     ]
    }
   ],
   "source": [
    "# Now we want to understand the type of data stored in this file. \n",
    "\n",
    "print(jail_occup.shape)"
   ]
  },
  {
   "cell_type": "code",
   "execution_count": 5,
   "metadata": {},
   "outputs": [
    {
     "name": "stdout",
     "output_type": "stream",
     "text": [
      "Index(['Index', 'Convicts', 'Undertrials', 'Detenues', 'Others',\n",
      "       'Total Prisoners', 'Total Occupancy Rate'],\n",
      "      dtype='object')\n"
     ]
    }
   ],
   "source": [
    "#Next we try to find the names of variables. \n",
    "\n",
    "print(jail_occup.columns)"
   ]
  },
  {
   "cell_type": "markdown",
   "metadata": {},
   "source": [
    "We see that 'Total Occupancy Rate' is one of the variables. \n"
   ]
  },
  {
   "cell_type": "code",
   "execution_count": 6,
   "metadata": {
    "scrolled": true
   },
   "outputs": [
    {
     "name": "stdout",
     "output_type": "stream",
     "text": [
      "                   Index  Convicts  Undertrials  Detenues  Others  \\\n",
      "State                                                               \n",
      "Andhra Pradesh         1      2742         4197        29      13   \n",
      "Arunachal Pradesh      2       127          118         0       0   \n",
      "Assam                  3      3178         5025         4       3   \n",
      "Bihar                  4      7184        31421         3       5   \n",
      "\n",
      "                   Total Prisoners  Total Occupancy Rate  \n",
      "State                                                     \n",
      "Andhra Pradesh                6981                  79.5  \n",
      "Arunachal Pradesh              245                 105.2  \n",
      "Assam                         8210                  93.2  \n",
      "Bihar                        38613                  93.3  \n"
     ]
    }
   ],
   "source": [
    "# Printing first few rows to better understand the data-set. \n",
    "\n",
    "print(jail_occup.head(4))"
   ]
  },
  {
   "cell_type": "markdown",
   "metadata": {},
   "source": [
    "Now let us figure out the states where Total Occupancy Rate is greater than 100% i.e. They are running on over-capacity."
   ]
  },
  {
   "cell_type": "code",
   "execution_count": 7,
   "metadata": {},
   "outputs": [
    {
     "name": "stdout",
     "output_type": "stream",
     "text": [
      "                   Total Occupancy Rate\n",
      "State                                  \n",
      "Uttar Pradesh                     176.5\n",
      "Sikkim                            157.3\n",
      "Delhi                             154.3\n",
      "Chhattisgarh                      153.3\n",
      "Uttarakhand                       150.0\n",
      "Maharashtra                       148.9\n",
      "Madhya Pradesh                    147.0\n",
      "Meghalaya                         143.5\n",
      "Jharkhand                         128.2\n",
      "Jammu & Kashmir                   116.0\n",
      "Gujarat                           112.3\n",
      "Kerala                            112.2\n",
      "West Bengal                       106.1\n",
      "Arunachal Pradesh                 105.2\n",
      "Mizoram                           104.7\n",
      "Haryana                           104.3\n",
      "Himachal Pradesh                  103.5\n",
      "Karnataka                         101.7\n"
     ]
    }
   ],
   "source": [
    "print(jail_occup[['Total Occupancy Rate']][jail_occup['Total Occupancy Rate'] > 100].sort_values('Total Occupancy Rate', ascending=False))"
   ]
  },
  {
   "cell_type": "markdown",
   "metadata": {},
   "source": [
    "So clearly there are a lot of Big States in India where the prisons are operating at around 150% occupancy rates. Chief among them includes Uttar Pradesh, Maharastra, Delhi, Madhya Pradesh and Chattisgarh. We will dig deeper into these states for our further analysis. \n"
   ]
  },
  {
   "cell_type": "code",
   "execution_count": 8,
   "metadata": {},
   "outputs": [],
   "source": [
    "# Storing the Values of relevant states in a list\n",
    "\n",
    "state_lst = ['Uttar Pradesh', 'Delhi', 'Chhattisgarh', 'Maharashtra', 'Madhya Pradesh']"
   ]
  },
  {
   "cell_type": "markdown",
   "metadata": {},
   "source": [
    "One of the reason for high occupancy rate could be larger proportion of 'undertrials' (owning to delays in judicial process). "
   ]
  },
  {
   "cell_type": "code",
   "execution_count": 9,
   "metadata": {},
   "outputs": [
    {
     "name": "stdout",
     "output_type": "stream",
     "text": [
      "                Convicts  Undertrials\n",
      "State                                \n",
      "Uttar Pradesh      28530        74946\n",
      "Delhi               2826        12164\n",
      "Chhattisgarh        8325        10129\n",
      "Maharashtra         8829        26390\n",
      "Madhya Pradesh     18612        23115\n"
     ]
    }
   ],
   "source": [
    "#Assigning data of states of interest to a new Dataframe\n",
    "\n",
    "jail_high_occup = jail_occup.loc[state_lst, ['Convicts', 'Undertrials']]\n",
    "\n",
    "print(jail_high_occup)"
   ]
  },
  {
   "cell_type": "code",
   "execution_count": 10,
   "metadata": {
    "scrolled": true
   },
   "outputs": [
    {
     "data": {
      "image/png": "[encoded data removed]",
      "text/plain": [
       "<Figure size 432x288 with 1 Axes>"
      ]
     },
     "metadata": {
      "needs_background": "light"
     },
     "output_type": "display_data"
    }
   ],
   "source": [
    "jail_high_occup.plot.bar(stacked = True, rot = 45)\n",
    "plt.show()"
   ]
  },
  {
   "cell_type": "markdown",
   "metadata": {},
   "source": [
    "It is now clear that in all 5 big states with high occupancy rates, the undertrials form a very large proportions. \n",
    "National Judicial Data Grid Portal (https://njdg.ecourts.gov.in/hcnjdgnew/) Data for various High Courts in India is indicating that large number of undertrials could be due to 'pendency in court cases'. "
   ]
  },
  {
   "cell_type": "markdown",
   "metadata": {},
   "source": [
    "Criminals with weeker socio-economic background very often find it difficult to secure bails.\n",
    "\n",
    "For the Next part of our analysis we will study the nature of undertrials. "
   ]
  },
  {
   "cell_type": "code",
   "execution_count": 11,
   "metadata": {},
   "outputs": [],
   "source": [
    "caste_under = pd.read_csv('Caste_of_Undertrials.csv', index_col = 1)\n",
    "religion_under = pd.read_csv('Religion_of_Undertrials.csv', index_col = 1)\n",
    "edu_under = pd.read_csv('Education_of_Undertrial.csv', index_col = 1)"
   ]
  },
  {
   "cell_type": "code",
   "execution_count": 16,
   "metadata": {
    "scrolled": true
   },
   "outputs": [
    {
     "name": "stdout",
     "output_type": "stream",
     "text": [
      "Index(['Index', 'SC', 'ST', 'OBC', 'Others', 'Total'], dtype='object')\n"
     ]
    }
   ],
   "source": [
    "print(caste_under.columns)"
   ]
  },
  {
   "cell_type": "markdown",
   "metadata": {},
   "source": [
    "Lets us compute the total across all caste category and find their proportion in grand total. We will then compare this with the population statistics. "
   ]
  },
  {
   "cell_type": "code",
   "execution_count": 41,
   "metadata": {},
   "outputs": [
    {
     "data": {
      "image/png": "[encoded data removed]",
      "text/plain": [
       "<Figure size 432x288 with 1 Axes>"
      ]
     },
     "metadata": {},
     "output_type": "display_data"
    }
   ],
   "source": [
    "# Pie chart of distribution\n",
    "labels = 'ST', 'SC', 'OBC', 'Others'\n",
    "grand_caste = [caste_under['SC'].sum(), caste_under['ST'].sum(), caste_under['OBC'].sum(), caste_under['Others'].sum()]\n",
    "explode = (0.1,0, 0, 0) \n",
    "\n",
    "fig1, ax1 = plt.subplots()\n",
    "ax1.pie(grand_caste, explode=explode, labels=labels, autopct='%1.1f%%',\n",
    "        shadow=True, startangle=90)\n",
    "ax1.axis('equal') \n",
    "\n",
    "plt.show()"
   ]
  },
  {
   "cell_type": "markdown",
   "metadata": {},
   "source": [
    "The the caste-wise distribution of undertrials is not very different from there actual distribution in population for OBCs and Others. ST's form around 9% of India's population (https://www.statista.com/statistics/1001016/india-population-share-by-caste/) and yet form a disproportionate part of Undertrials. So clearly there is are some disparities in legal aid. "
   ]
  },
  {
   "cell_type": "markdown",
   "metadata": {},
   "source": [
    "Let's Do similar analysis on religion-wise distribution of undertrials. "
   ]
  },
  {
   "cell_type": "code",
   "execution_count": 42,
   "metadata": {},
   "outputs": [
    {
     "name": "stdout",
     "output_type": "stream",
     "text": [
      "Index(['Index', 'Hindu', 'Muslim', 'Sikh', 'Christian', 'Others', 'Total'], dtype='object')\n"
     ]
    }
   ],
   "source": [
    "print(religion_under.columns)"
   ]
  },
  {
   "cell_type": "code",
   "execution_count": 58,
   "metadata": {},
   "outputs": [
    {
     "data": {
      "image/png": "[encoded data removed]",
      "text/plain": [
       "<Figure size 432x288 with 1 Axes>"
      ]
     },
     "metadata": {},
     "output_type": "display_data"
    }
   ],
   "source": [
    "# Pie chart of distribution\n",
    "labels = ['Hindu', 'Others', 'Muslim', 'Sikh', 'Christian']\n",
    "sizes = [religion_under['Hindu'].sum(), religion_under['Others'].sum(), religion_under['Muslim'].sum(), religion_under['Sikh'].sum(), religion_under['Christian'].sum()]\n",
    "colors = ['#ff9999','#66b3ff','#99ff99','#ffcc99', '#307D7E']\n",
    "explode = (0.1,0.1,0.1,0.075, 0.2)\n",
    " \n",
    "plt.pie(sizes, colors = colors, labels=labels, autopct='%1.1f%%', startangle=90, pctdistance=0.75, explode = explode, rotatelabels =True)\n",
    "#draw circle\n",
    "centre_circle = plt.Circle((0,0),0.60,fc='white')\n",
    "fig = plt.gcf()\n",
    "fig.gca().add_artist(centre_circle)\n",
    "ax1.axis('equal')  \n",
    "plt.tight_layout()\n",
    "plt.show()"
   ]
  },
  {
   "cell_type": "markdown",
   "metadata": {},
   "source": [
    "So clearly ther isn't much disproportionality in terms of religion. Religion-wise distribution is fairly representational of general population of India. "
   ]
  },
  {
   "cell_type": "code",
   "execution_count": 45,
   "metadata": {},
   "outputs": [
    {
     "data": {
      "text/plain": [
       "Index(['Index', 'Illiterate', 'Below Class X', 'Below Graduation', 'Graduate',\n",
       "       'Educational Standard - Holding Tech. Degree /Diploma', 'Post Graduate',\n",
       "       'Educational Standard -Total'],\n",
       "      dtype='object')"
      ]
     },
     "execution_count": 45,
     "metadata": {},
     "output_type": "execute_result"
    }
   ],
   "source": [
    "edu_under.columns"
   ]
  },
  {
   "cell_type": "markdown",
   "metadata": {},
   "source": [
    "Let's add another column to this Pandas Dataframe which notes and % of Illiterates for each state. "
   ]
  },
  {
   "cell_type": "code",
   "execution_count": 50,
   "metadata": {},
   "outputs": [],
   "source": [
    "edu_under['Illiterate Percentage'] = (edu_under['Illiterate']*100)/edu_under['Educational Standard -Total']"
   ]
  },
  {
   "cell_type": "code",
   "execution_count": 54,
   "metadata": {},
   "outputs": [
    {
     "data": {
      "image/png": "[encoded data removed]",
      "text/plain": [
       "<Figure size 432x288 with 1 Axes>"
      ]
     },
     "metadata": {
      "needs_background": "light"
     },
     "output_type": "display_data"
    }
   ],
   "source": [
    "edu_under.boxplot(column = 'Illiterate Percentage')\n",
    "plt.show()"
   ]
  },
  {
   "cell_type": "markdown",
   "metadata": {},
   "source": [
    "So the Illiterate Pecentage is between inter-quartile range of 18-35. And we have two outliers.\n",
    "\n",
    "Let's find out the outliers. "
   ]
  },
  {
   "cell_type": "code",
   "execution_count": 74,
   "metadata": {},
   "outputs": [
    {
     "data": {
      "text/html": [
       "<div>\n",
       "<style scoped>\n",
       "    .dataframe tbody tr th:only-of-type {\n",
       "        vertical-align: middle;\n",
       "    }\n",
       "\n",
       "    .dataframe tbody tr th {\n",
       "        vertical-align: top;\n",
       "    }\n",
       "\n",
       "    .dataframe thead th {\n",
       "        text-align: right;\n",
       "    }\n",
       "</style>\n",
       "<table border=\"1\" class=\"dataframe\">\n",
       "  <thead>\n",
       "    <tr style=\"text-align: right;\">\n",
       "      <th></th>\n",
       "      <th>Index</th>\n",
       "      <th>Illiterate</th>\n",
       "      <th>Below Class X</th>\n",
       "      <th>Below Graduation</th>\n",
       "      <th>Graduate</th>\n",
       "      <th>Educational Standard - Holding Tech. Degree /Diploma</th>\n",
       "      <th>Post Graduate</th>\n",
       "      <th>Educational Standard -Total</th>\n",
       "      <th>Illiterate Percentage</th>\n",
       "    </tr>\n",
       "    <tr>\n",
       "      <th>State</th>\n",
       "      <th></th>\n",
       "      <th></th>\n",
       "      <th></th>\n",
       "      <th></th>\n",
       "      <th></th>\n",
       "      <th></th>\n",
       "      <th></th>\n",
       "      <th></th>\n",
       "      <th></th>\n",
       "    </tr>\n",
       "  </thead>\n",
       "  <tbody>\n",
       "    <tr>\n",
       "      <th>West Bengal</th>\n",
       "      <td>29</td>\n",
       "      <td>9453</td>\n",
       "      <td>4631</td>\n",
       "      <td>1912</td>\n",
       "      <td>439</td>\n",
       "      <td>1</td>\n",
       "      <td>42</td>\n",
       "      <td>16478</td>\n",
       "      <td>57.367399</td>\n",
       "    </tr>\n",
       "    <tr>\n",
       "      <th>Daman &amp; Diu</th>\n",
       "      <td>33</td>\n",
       "      <td>39</td>\n",
       "      <td>5</td>\n",
       "      <td>0</td>\n",
       "      <td>0</td>\n",
       "      <td>0</td>\n",
       "      <td>0</td>\n",
       "      <td>44</td>\n",
       "      <td>88.636364</td>\n",
       "    </tr>\n",
       "  </tbody>\n",
       "</table>\n",
       "</div>"
      ],
      "text/plain": [
       "             Index  Illiterate  Below Class X  Below Graduation  Graduate  \\\n",
       "State                                                                       \n",
       "West Bengal     29        9453           4631              1912       439   \n",
       "Daman & Diu     33          39              5                 0         0   \n",
       "\n",
       "             Educational Standard - Holding Tech. Degree /Diploma  \\\n",
       "State                                                               \n",
       "West Bengal                                                  1      \n",
       "Daman & Diu                                                  0      \n",
       "\n",
       "             Post Graduate  Educational Standard -Total  Illiterate Percentage  \n",
       "State                                                                           \n",
       "West Bengal             42                        16478              57.367399  \n",
       "Daman & Diu              0                           44              88.636364  "
      ]
     },
     "execution_count": 74,
     "metadata": {},
     "output_type": "execute_result"
    }
   ],
   "source": [
    "edu_under[edu_under['Illiterate Percentage'] > 50]"
   ]
  },
  {
   "cell_type": "markdown",
   "metadata": {},
   "source": [
    "So the two states with higher proportion of illerate percetage West-Bengal and Daman&Diu. Literacy can be a big handicap in the course of complete justice. "
   ]
  },
  {
   "cell_type": "markdown",
   "metadata": {},
   "source": [
    "Now we can try find a relationship if any between Illiterate Percentage and Higher Proportion of Undertrials in a State. "
   ]
  },
  {
   "cell_type": "code",
   "execution_count": 61,
   "metadata": {},
   "outputs": [],
   "source": [
    "# defining new variable in jail occupancy table. \n",
    "\n",
    "\n",
    "jail_occup['Undertrial Percentage'] = (jail_occup['Undertrials']*100)/jail_occup['Total Prisoners']"
   ]
  },
  {
   "cell_type": "code",
   "execution_count": 72,
   "metadata": {},
   "outputs": [
    {
     "data": {
      "image/png": "[encoded data removed]",
      "text/plain": [
       "<Figure size 432x288 with 1 Axes>"
      ]
     },
     "metadata": {
      "needs_background": "light"
     },
     "output_type": "display_data"
    }
   ],
   "source": [
    "# Scatter-Plot between the two variables. \n",
    "\n",
    "import seaborn as sns\n",
    "sns.regplot(x= jail_occup['Undertrial Percentage'],\n",
    "            y=edu_under['Illiterate Percentage'])\n",
    "\n",
    "plt.show()"
   ]
  },
  {
   "cell_type": "markdown",
   "metadata": {},
   "source": [
    "Clearly Literacy has little impact on Proportion of Undertrials in a Prison. "
   ]
  },
  {
   "cell_type": "markdown",
   "metadata": {},
   "source": [
    "### Conclusion "
   ]
  },
  {
   "cell_type": "markdown",
   "metadata": {},
   "source": [
    "1. Overcrowding as a problem is restricted to a few states. Among bigger states, the focus should be on M.P., U.P, Chattisgarh, Delhi and Maharastra. All these States have a disproportionately larger share of undertrials, so the respective law courts will have to find ways to find ways to fasten the process. \n",
    "\n",
    "\n",
    "2. One cannot infer and caste/religious disparity in distribution of Undertrials apart from the fact that STs are over-represented among Undertrials.\n",
    "\n",
    "\n",
    "3. Illiteracy among Undertrials lies in IQR of 18-35. "
   ]
  },
  {
   "cell_type": "markdown",
   "metadata": {},
   "source": [
    "### Scope/ Futher Study"
   ]
  },
  {
   "cell_type": "markdown",
   "metadata": {},
   "source": [
    "1. Overcrowding can have a criminalizing impact. Those who are found 'not-guilty' after years of wait inside a prison, often come out and commit a crime. If survey is done to find out % of individuals undertrial who were finally found 'not-guilty', we can study its relationship with recidivism. Also a sytem can be divised to classify the prisoners inside the prison, to limit their contact with hardened criminals. \n",
    "\n",
    "\n",
    "2. Undertrials can also be classified depending on the severity/time sensitivity of offence they are charged with. Undertrials charged with time sensitive cases should ideally have shorter 'waiting period before conviction'.\n",
    "\n",
    "\n",
    "3. A system can be divised for Supreme Courts and Other Courts of India to prioritize their work based on more granular data. The system would intelligently order the casses according to variables such as 'severity of crime', 'age of undertrial' etc.\n",
    "\n",
    "\n",
    "\n",
    "\n"
   ]
  },
  {
   "cell_type": "code",
   "execution_count": null,
   "metadata": {},
   "outputs": [],
   "source": []
  }
 ],
 "metadata": {
  "kernelspec": {
   "display_name": "Python 3",
   "language": "python",
   "name": "python3"
  },
  "language_info": {
   "codemirror_mode": {
    "name": "ipython",
    "version": 3
   },
   "file_extension": ".py",
   "mimetype": "text/x-python",
   "name": "python",
   "nbconvert_exporter": "python",
   "pygments_lexer": "ipython3",
   "version": "3.8.3"
  }
 },
 "nbformat": 4,
 "nbformat_minor": 4
}
